{
 "cells": [
  {
   "cell_type": "code",
   "execution_count": 1,
   "metadata": {},
   "outputs": [],
   "source": [
    "import pyautogui as gui\n",
    "import time"
   ]
  },
  {
   "cell_type": "code",
   "execution_count": null,
   "metadata": {},
   "outputs": [],
   "source": [
    "################################################# \n",
    "# click start button\n",
    "#################################################\n",
    "gui.click(x=305, y=1342)\n",
    "gui.click()\n",
    "\n",
    "\n",
    "#################################################\n",
    "# wait to load in-game lobby\n",
    "#################################################\n",
    "# time.sleep(20)"
   ]
  },
  {
   "cell_type": "code",
   "execution_count": null,
   "metadata": {},
   "outputs": [],
   "source": [
    "# #################################################\n",
    "# # run counter \n",
    "# #################################################\n",
    "\n",
    "# time.sleep(10)"
   ]
  },
  {
   "cell_type": "code",
   "execution_count": 14,
   "metadata": {},
   "outputs": [],
   "source": [
    "#################################################\n",
    "# movement loop\n",
    "#################################################\n",
    "gui.click(x=305, y=1342)\n",
    "gui.click()\n",
    "\n",
    "artbitrary_num = int(1000)\n",
    "\n",
    "def run_and_punch(artbitrary_num):\n",
    "    while artbitrary_num > 1: # CV condition here later\n",
    "        time.sleep(0.5)\n",
    "        gui.press('v')\n",
    "        time.sleep(2)\n",
    "        \n",
    "        gui.keyDown('shift')\n",
    "        gui.keyDown('w')\n",
    "        \n",
    "        gui.dragTo(300, 400, 1.5, button='left')\n",
    "        time.sleep(0.5)\n",
    "        gui.dragTo(300, 400, 1.5, button='left')\n",
    "        \n",
    "        gui.click()\n",
    "        time.sleep(0.25)\n",
    "        gui.click()\n",
    "        time.sleep(0.25)\n",
    "        gui.click()\n",
    "        time.sleep(0.25)\n",
    "        gui.click()\n",
    "        time.sleep(0.25)\n",
    "        gui.click()\n",
    "        time.sleep(0.25)\n",
    "        \n",
    "        gui.dragTo(300, 400, 3, button='left')\n",
    "\n",
    "#         time.sleep(0.25)\n",
    "#         gui.press('c') \n",
    "\n",
    "#         gui.press('space') \n",
    "#         time.sleep(0.25)\n",
    "\n",
    "        break\n",
    "\n",
    "run_and_punch(artbitrary_num)"
   ]
  },
  {
   "cell_type": "code",
   "execution_count": 12,
   "metadata": {},
   "outputs": [],
   "source": [
    "# Functions \n",
    "# gui.press('w')\n",
    "# gui.typewrite('test_text)\n",
    "# gui.typewrite([\"enter\"])\n",
    "\n",
    "    \n",
    "# x = 1\n",
    "# y = 3\n",
    "\n",
    "# def run_and_punch_test(x, y):\n",
    "#     while x < 6:\n",
    "#         print(gui.position())\n",
    "#         print(\"GUI POSITION \" + str(x))\n",
    "        \n",
    "#         if x == y:\n",
    "#             break\n",
    "#         x+= 1\n",
    "\n",
    "# run_and_punch_test(x, y)"
   ]
  },
  {
   "cell_type": "code",
   "execution_count": null,
   "metadata": {},
   "outputs": [],
   "source": []
  }
 ],
 "metadata": {
  "kernelspec": {
   "display_name": "Python 3",
   "language": "python",
   "name": "python3"
  },
  "language_info": {
   "codemirror_mode": {
    "name": "ipython",
    "version": 3
   },
   "file_extension": ".py",
   "mimetype": "text/x-python",
   "name": "python",
   "nbconvert_exporter": "python",
   "pygments_lexer": "ipython3",
   "version": "3.6.4"
  }
 },
 "nbformat": 4,
 "nbformat_minor": 2
}
