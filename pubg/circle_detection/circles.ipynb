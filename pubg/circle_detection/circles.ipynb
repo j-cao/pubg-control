{
 "cells": [
  {
   "cell_type": "code",
   "execution_count": 1,
   "metadata": {},
   "outputs": [],
   "source": [
    "import cv2\n",
    "import numpy as np"
   ]
  },
  {
   "cell_type": "code",
   "execution_count": 2,
   "metadata": {},
   "outputs": [],
   "source": [
    "import scipy"
   ]
  },
  {
   "cell_type": "code",
   "execution_count": 4,
   "metadata": {},
   "outputs": [
    {
     "data": {
      "text/plain": [
       "'1.4.1'"
      ]
     },
     "execution_count": 4,
     "metadata": {},
     "output_type": "execute_result"
    }
   ],
   "source": [
    "scipy.__version__"
   ]
  },
  {
   "cell_type": "code",
   "execution_count": null,
   "metadata": {},
   "outputs": [],
   "source": [
    "\n",
    " \n",
    " \n",
    "planets = cv2.imread('planet.jpg')\n",
    "planet = cv2.imread('circle.jpg')\n",
    "\n",
    "gray_img=cv2.cvtColor(planets,cv2.COLOR_BGR2GRAY)\n",
    "img= cv2.medianBlur(gray_img,5)\n",
    "cimg = cv2.cvtColor(img,cv2.COLOR_GRAY2BGR)\n",
    " \n",
    "#center\n",
    " \n",
    "circles= cv2.HoughCircles(img,cv2.HOUGH_GRADIENT,1,120,param1=100,param2=30,minRadius=0,maxRadius=0)\n",
    "circles= np.uint16(np.around(circles))\n",
    " \n",
    "for i in circles[0,:]:\n",
    "    #drawtheoutercircle\n",
    "    cv2.circle(planets,(i[0],i[1]),i[2],(0,255,0),6)\n",
    "    #drawthecenterofthecircle\n",
    "    cv2.circle(planets,(i[0],i[1]),2,(0,0,255),3)\n",
    " \n",
    "cv2.imshow(\"HoughCirlces\",planets)\n",
    "cv2.waitKey()\n",
    "cv2.destroyAllWindows()"
   ]
  },
  {
   "cell_type": "code",
   "execution_count": null,
   "metadata": {},
   "outputs": [],
   "source": []
  }
 ],
 "metadata": {
  "kernelspec": {
   "display_name": "Python 3",
   "language": "python",
   "name": "python3"
  },
  "language_info": {
   "codemirror_mode": {
    "name": "ipython",
    "version": 3
   },
   "file_extension": ".py",
   "mimetype": "text/x-python",
   "name": "python",
   "nbconvert_exporter": "python",
   "pygments_lexer": "ipython3",
   "version": "3.6.4"
  }
 },
 "nbformat": 4,
 "nbformat_minor": 2
}
